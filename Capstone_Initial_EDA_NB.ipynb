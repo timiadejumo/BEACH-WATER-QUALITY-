{
 "cells": [
  {
   "cell_type": "markdown",
   "metadata": {},
   "source": [
    "## Is it A good day to go out snorkelling?"
   ]
  },
  {
   "cell_type": "markdown",
   "metadata": {},
   "source": [
    "## Stakeholders: Dive Buddies"
   ]
  },
  {
   "cell_type": "markdown",
   "metadata": {},
   "source": [
    "The stakeholder is a diving social club. They hangout in the Chicago waterfront region. "
   ]
  },
  {
   "cell_type": "code",
   "execution_count": 6,
   "metadata": {},
   "outputs": [],
   "source": [
    "# Import libraries\n",
    "import pandas as pd\n",
    "import numpy as np\n",
    "import matplotlib.pyplot as plt\n",
    "import seaborn as sns\n",
    "\n",
    "sns.set_style('whitegrid')"
   ]
  },
  {
   "cell_type": "code",
   "execution_count": 9,
   "metadata": {},
   "outputs": [],
   "source": [
    "# load and import dataset using pandas\n",
    "\n",
    "df = pd.read_csv('data/bwq.csv',parse_dates=True)"
   ]
  },
  {
   "cell_type": "code",
   "execution_count": 10,
   "metadata": {},
   "outputs": [
    {
     "data": {
      "text/html": [
       "<div>\n",
       "<style scoped>\n",
       "    .dataframe tbody tr th:only-of-type {\n",
       "        vertical-align: middle;\n",
       "    }\n",
       "\n",
       "    .dataframe tbody tr th {\n",
       "        vertical-align: top;\n",
       "    }\n",
       "\n",
       "    .dataframe thead th {\n",
       "        text-align: right;\n",
       "    }\n",
       "</style>\n",
       "<table border=\"1\" class=\"dataframe\">\n",
       "  <thead>\n",
       "    <tr style=\"text-align: right;\">\n",
       "      <th></th>\n",
       "      <th>Beach Name</th>\n",
       "      <th>Measurement Timestamp</th>\n",
       "      <th>Water Temperature</th>\n",
       "      <th>Turbidity</th>\n",
       "      <th>Transducer Depth</th>\n",
       "      <th>Wave Height</th>\n",
       "      <th>Wave Period</th>\n",
       "      <th>Battery Life</th>\n",
       "      <th>Measurement Timestamp Label</th>\n",
       "      <th>Measurement ID</th>\n",
       "    </tr>\n",
       "  </thead>\n",
       "  <tbody>\n",
       "    <tr>\n",
       "      <th>0</th>\n",
       "      <td>Montrose Beach</td>\n",
       "      <td>08/30/2013 08:00:00 AM</td>\n",
       "      <td>20.3</td>\n",
       "      <td>1.18</td>\n",
       "      <td>0.891</td>\n",
       "      <td>0.080</td>\n",
       "      <td>3.0</td>\n",
       "      <td>9.4</td>\n",
       "      <td>8/30/2013 8:00 AM</td>\n",
       "      <td>MontroseBeach201308300800</td>\n",
       "    </tr>\n",
       "    <tr>\n",
       "      <th>1</th>\n",
       "      <td>Ohio Street Beach</td>\n",
       "      <td>05/26/2016 01:00:00 PM</td>\n",
       "      <td>14.4</td>\n",
       "      <td>1.23</td>\n",
       "      <td>NaN</td>\n",
       "      <td>0.111</td>\n",
       "      <td>4.0</td>\n",
       "      <td>12.4</td>\n",
       "      <td>05/26/2016 1:00 PM</td>\n",
       "      <td>OhioStreetBeach201605261300</td>\n",
       "    </tr>\n",
       "    <tr>\n",
       "      <th>2</th>\n",
       "      <td>Calumet Beach</td>\n",
       "      <td>09/03/2013 04:00:00 PM</td>\n",
       "      <td>23.2</td>\n",
       "      <td>3.63</td>\n",
       "      <td>1.201</td>\n",
       "      <td>0.174</td>\n",
       "      <td>6.0</td>\n",
       "      <td>9.4</td>\n",
       "      <td>9/3/2013 4:00 PM</td>\n",
       "      <td>CalumetBeach201309031600</td>\n",
       "    </tr>\n",
       "    <tr>\n",
       "      <th>3</th>\n",
       "      <td>Calumet Beach</td>\n",
       "      <td>05/28/2014 12:00:00 PM</td>\n",
       "      <td>16.2</td>\n",
       "      <td>1.26</td>\n",
       "      <td>1.514</td>\n",
       "      <td>0.147</td>\n",
       "      <td>4.0</td>\n",
       "      <td>11.7</td>\n",
       "      <td>5/28/2014 12:00 PM</td>\n",
       "      <td>CalumetBeach201405281200</td>\n",
       "    </tr>\n",
       "    <tr>\n",
       "      <th>4</th>\n",
       "      <td>Montrose Beach</td>\n",
       "      <td>05/28/2014 12:00:00 PM</td>\n",
       "      <td>14.4</td>\n",
       "      <td>3.36</td>\n",
       "      <td>1.388</td>\n",
       "      <td>0.298</td>\n",
       "      <td>4.0</td>\n",
       "      <td>11.9</td>\n",
       "      <td>5/28/2014 12:00 PM</td>\n",
       "      <td>MontroseBeach201405281200</td>\n",
       "    </tr>\n",
       "  </tbody>\n",
       "</table>\n",
       "</div>"
      ],
      "text/plain": [
       "          Beach Name   Measurement Timestamp  Water Temperature  Turbidity  \\\n",
       "0     Montrose Beach  08/30/2013 08:00:00 AM               20.3       1.18   \n",
       "1  Ohio Street Beach  05/26/2016 01:00:00 PM               14.4       1.23   \n",
       "2      Calumet Beach  09/03/2013 04:00:00 PM               23.2       3.63   \n",
       "3      Calumet Beach  05/28/2014 12:00:00 PM               16.2       1.26   \n",
       "4     Montrose Beach  05/28/2014 12:00:00 PM               14.4       3.36   \n",
       "\n",
       "   Transducer Depth  Wave Height  Wave Period  Battery Life  \\\n",
       "0             0.891        0.080          3.0           9.4   \n",
       "1               NaN        0.111          4.0          12.4   \n",
       "2             1.201        0.174          6.0           9.4   \n",
       "3             1.514        0.147          4.0          11.7   \n",
       "4             1.388        0.298          4.0          11.9   \n",
       "\n",
       "  Measurement Timestamp Label               Measurement ID  \n",
       "0           8/30/2013 8:00 AM    MontroseBeach201308300800  \n",
       "1          05/26/2016 1:00 PM  OhioStreetBeach201605261300  \n",
       "2            9/3/2013 4:00 PM     CalumetBeach201309031600  \n",
       "3          5/28/2014 12:00 PM     CalumetBeach201405281200  \n",
       "4          5/28/2014 12:00 PM    MontroseBeach201405281200  "
      ]
     },
     "execution_count": 10,
     "metadata": {},
     "output_type": "execute_result"
    }
   ],
   "source": [
    "# Read first 5 lines of dataframe\n",
    "df.head()"
   ]
  },
  {
   "cell_type": "code",
   "execution_count": 4,
   "metadata": {},
   "outputs": [
    {
     "name": "stdout",
     "output_type": "stream",
     "text": [
      "<class 'pandas.core.frame.DataFrame'>\n",
      "RangeIndex: 34923 entries, 0 to 34922\n",
      "Data columns (total 10 columns):\n",
      " #   Column                       Non-Null Count  Dtype  \n",
      "---  ------                       --------------  -----  \n",
      " 0   Beach Name                   34923 non-null  object \n",
      " 1   Measurement Timestamp        34917 non-null  object \n",
      " 2   Water Temperature            34917 non-null  float64\n",
      " 3   Turbidity                    34917 non-null  float64\n",
      " 4   Transducer Depth             10034 non-null  float64\n",
      " 5   Wave Height                  34690 non-null  float64\n",
      " 6   Wave Period                  34690 non-null  float64\n",
      " 7   Battery Life                 34917 non-null  float64\n",
      " 8   Measurement Timestamp Label  34917 non-null  object \n",
      " 9   Measurement ID               34923 non-null  object \n",
      "dtypes: float64(6), object(4)\n",
      "memory usage: 2.7+ MB\n"
     ]
    }
   ],
   "source": [
    "# view data info\n",
    "df.info()"
   ]
  },
  {
   "cell_type": "code",
   "execution_count": null,
   "metadata": {},
   "outputs": [],
   "source": [
    "# view summary statistics of numerical columns\n",
    "df.describe()"
   ]
  },
  {
   "cell_type": "markdown",
   "metadata": {},
   "source": [
    "Ocean wave height (technically referred to as amplitude) is a measurement of the vertical distance of the wave from the average height of the wave. The wave axis is the still water level of the ocean, and is usually equated to zero. Wave height above and below the average are measured as positive and negative values, respectively. Could that be the reason we have negative values in the 'Wave Height\" and \"Wave Period\" columns?"
   ]
  },
  {
   "cell_type": "markdown",
   "metadata": {},
   "source": [
    "However, on closer inspection, notice these two columns have extreme-looking values as their minimum values. These could be attributed to clerical errors, or perhaps filling in for unknown values as it was done several years ago (before the advent of NaNs). "
   ]
  },
  {
   "cell_type": "markdown",
   "metadata": {},
   "source": [
    "However, it does seem like the above -99999.92 and -100000.0 were arbitrarily entered as values in the above columns for some odd reason. "
   ]
  },
  {
   "cell_type": "markdown",
   "metadata": {},
   "source": [
    "Also, it is noted from the df.info() output that the timestamp measurements are object datatypes. "
   ]
  },
  {
   "cell_type": "code",
   "execution_count": null,
   "metadata": {
    "scrolled": true
   },
   "outputs": [],
   "source": [
    "len(df[df['Wave Height'] < 0]) / len(df)"
   ]
  },
  {
   "cell_type": "markdown",
   "metadata": {},
   "source": [
    "These arbitrarily inputted figures account for a little less than 2% of the dataset. At this point of exploring the data, I will note this and make a decision as to the how to handle this subset of the dataset as I keep exploring and looking at the trends."
   ]
  },
  {
   "cell_type": "code",
   "execution_count": null,
   "metadata": {},
   "outputs": [],
   "source": [
    "df[df['Transducer Depth'] < 0]"
   ]
  },
  {
   "cell_type": "markdown",
   "metadata": {},
   "source": [
    "These two readings also have negative transducer height values, which seems odd. However, just like the wave height measurements above, I note this off-values and will make a decision as to the usability while I keep exp;oring the dataset."
   ]
  },
  {
   "cell_type": "code",
   "execution_count": null,
   "metadata": {},
   "outputs": [],
   "source": [
    "df[df['Turbidity'] > 100]"
   ]
  },
  {
   "cell_type": "code",
   "execution_count": null,
   "metadata": {},
   "outputs": [],
   "source": [
    "beach_names = []\n",
    "\n",
    "for name in df['Beach Name'].unique():\n",
    "    beach_names.append(name)\n",
    "    \n",
    "beach_names"
   ]
  },
  {
   "cell_type": "code",
   "execution_count": null,
   "metadata": {},
   "outputs": [],
   "source": [
    "df = df[(df['Wave Height'] != -99999.992) & \n",
    "        (df['Wave Period'] != -100000.0)].drop(columns='Transducer Depth').dropna()"
   ]
  },
  {
   "cell_type": "code",
   "execution_count": null,
   "metadata": {},
   "outputs": [],
   "source": [
    "df"
   ]
  },
  {
   "cell_type": "code",
   "execution_count": null,
   "metadata": {},
   "outputs": [],
   "source": [
    "df['Measurement Timestamp'] = pd.to_datetime(df['Measurement Timestamp'])\n",
    "df.set_index('Measurement Timestamp')\n"
   ]
  },
  {
   "cell_type": "code",
   "execution_count": null,
   "metadata": {},
   "outputs": [],
   "source": [
    "df.Turbidity.max()"
   ]
  },
  {
   "cell_type": "code",
   "execution_count": null,
   "metadata": {},
   "outputs": [],
   "source": [
    "df.hist(figsize=(12,8),bins=10);"
   ]
  },
  {
   "cell_type": "markdown",
   "metadata": {},
   "source": [
    "## Binning the turbidity level"
   ]
  },
  {
   "cell_type": "code",
   "execution_count": null,
   "metadata": {},
   "outputs": [],
   "source": [
    "# Define bins\n",
    "bins = [0, 5, 35, 50, 2000]"
   ]
  },
  {
   "cell_type": "code",
   "execution_count": null,
   "metadata": {},
   "outputs": [],
   "source": [
    "# Define the corresponding category for each bin\n",
    "Levels = [0, 1, 2, 3]"
   ]
  },
  {
   "cell_type": "code",
   "execution_count": null,
   "metadata": {},
   "outputs": [],
   "source": [
    "# create a new column mapping water turbidity to a level\n",
    "df['Turbidity_level'] = pd.cut(df['Turbidity'],bins,labels=Levels,ordered=True,include_lowest=True)"
   ]
  },
  {
   "cell_type": "code",
   "execution_count": null,
   "metadata": {},
   "outputs": [],
   "source": [
    "df"
   ]
  },
  {
   "cell_type": "code",
   "execution_count": null,
   "metadata": {},
   "outputs": [],
   "source": [
    "df.isna().any()"
   ]
  },
  {
   "cell_type": "code",
   "execution_count": null,
   "metadata": {},
   "outputs": [],
   "source": [
    "df.Turbidity_level.value_counts()"
   ]
  },
  {
   "cell_type": "code",
   "execution_count": null,
   "metadata": {},
   "outputs": [],
   "source": [
    "df.describe()"
   ]
  },
  {
   "cell_type": "code",
   "execution_count": null,
   "metadata": {},
   "outputs": [],
   "source": []
  }
 ],
 "metadata": {
  "kernelspec": {
   "display_name": "Python (learn-env)",
   "language": "python",
   "name": "learn-env"
  },
  "language_info": {
   "codemirror_mode": {
    "name": "ipython",
    "version": 3
   },
   "file_extension": ".py",
   "mimetype": "text/x-python",
   "name": "python",
   "nbconvert_exporter": "python",
   "pygments_lexer": "ipython3",
   "version": "3.8.5"
  }
 },
 "nbformat": 4,
 "nbformat_minor": 4
}
