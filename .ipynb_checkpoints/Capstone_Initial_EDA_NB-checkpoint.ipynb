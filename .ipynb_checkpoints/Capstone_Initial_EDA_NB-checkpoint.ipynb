{
 "cells": [
  {
   "cell_type": "markdown",
   "metadata": {},
   "source": [
    "## Is it A good day to go out Diving?"
   ]
  },
  {
   "cell_type": "markdown",
   "metadata": {},
   "source": [
    "## Stakeholders: Dive Buddies"
   ]
  },
  {
   "cell_type": "markdown",
   "metadata": {},
   "source": [
    "The stakeholder is a diving social club. They hangout in the Chicago waterfront region. "
   ]
  },
  {
   "cell_type": "code",
   "execution_count": 54,
   "metadata": {},
   "outputs": [],
   "source": [
    "# Import libraries\n",
    "import pandas as pd\n",
    "import numpy as np\n",
    "import matplotlib.pyplot as plt\n",
    "import seaborn as sns\n",
    "\n",
    "\n",
    "from imblearn.over_sampling import SMOTE\n",
    "from sklearn.linear_model import LogisticRegression\n",
    "from sklearn.dummy import DummyClassifier\n",
    "from sklearn.model_selection import train_test_split, cross_val_score\n",
    "from sklearn.metrics import accuracy_score,precision_score,confusion_matrix,\\\n",
    "classification_report, precision_recall_curve, plot_confusion_matrix\n",
    "from sklearn.preprocessing import OneHotEncoder, OrdinalEncoder, LabelEncoder\n",
    "from sklearn.compose import ColumnTransformer\n",
    "from sklearn.compose import make_column_transformer\n",
    "from sklearn.pipeline import Pipeline\n",
    "\n",
    "sns.set_style('whitegrid')"
   ]
  },
  {
   "cell_type": "code",
   "execution_count": 55,
   "metadata": {},
   "outputs": [],
   "source": [
    "# load and import dataset using pandas\n",
    "\n",
    "df = pd.read_csv('data/bwq.csv',parse_dates=True)"
   ]
  },
  {
   "cell_type": "code",
   "execution_count": 56,
   "metadata": {},
   "outputs": [
    {
     "data": {
      "text/html": [
       "<div>\n",
       "<style scoped>\n",
       "    .dataframe tbody tr th:only-of-type {\n",
       "        vertical-align: middle;\n",
       "    }\n",
       "\n",
       "    .dataframe tbody tr th {\n",
       "        vertical-align: top;\n",
       "    }\n",
       "\n",
       "    .dataframe thead th {\n",
       "        text-align: right;\n",
       "    }\n",
       "</style>\n",
       "<table border=\"1\" class=\"dataframe\">\n",
       "  <thead>\n",
       "    <tr style=\"text-align: right;\">\n",
       "      <th></th>\n",
       "      <th>Beach Name</th>\n",
       "      <th>Measurement Timestamp</th>\n",
       "      <th>Water Temperature</th>\n",
       "      <th>Turbidity</th>\n",
       "      <th>Transducer Depth</th>\n",
       "      <th>Wave Height</th>\n",
       "      <th>Wave Period</th>\n",
       "      <th>Battery Life</th>\n",
       "      <th>Measurement Timestamp Label</th>\n",
       "      <th>Measurement ID</th>\n",
       "    </tr>\n",
       "  </thead>\n",
       "  <tbody>\n",
       "    <tr>\n",
       "      <th>0</th>\n",
       "      <td>Montrose Beach</td>\n",
       "      <td>08/30/2013 08:00:00 AM</td>\n",
       "      <td>20.3</td>\n",
       "      <td>1.18</td>\n",
       "      <td>0.891</td>\n",
       "      <td>0.080</td>\n",
       "      <td>3.0</td>\n",
       "      <td>9.4</td>\n",
       "      <td>8/30/2013 8:00 AM</td>\n",
       "      <td>MontroseBeach201308300800</td>\n",
       "    </tr>\n",
       "    <tr>\n",
       "      <th>1</th>\n",
       "      <td>Ohio Street Beach</td>\n",
       "      <td>05/26/2016 01:00:00 PM</td>\n",
       "      <td>14.4</td>\n",
       "      <td>1.23</td>\n",
       "      <td>NaN</td>\n",
       "      <td>0.111</td>\n",
       "      <td>4.0</td>\n",
       "      <td>12.4</td>\n",
       "      <td>05/26/2016 1:00 PM</td>\n",
       "      <td>OhioStreetBeach201605261300</td>\n",
       "    </tr>\n",
       "    <tr>\n",
       "      <th>2</th>\n",
       "      <td>Calumet Beach</td>\n",
       "      <td>09/03/2013 04:00:00 PM</td>\n",
       "      <td>23.2</td>\n",
       "      <td>3.63</td>\n",
       "      <td>1.201</td>\n",
       "      <td>0.174</td>\n",
       "      <td>6.0</td>\n",
       "      <td>9.4</td>\n",
       "      <td>9/3/2013 4:00 PM</td>\n",
       "      <td>CalumetBeach201309031600</td>\n",
       "    </tr>\n",
       "    <tr>\n",
       "      <th>3</th>\n",
       "      <td>Calumet Beach</td>\n",
       "      <td>05/28/2014 12:00:00 PM</td>\n",
       "      <td>16.2</td>\n",
       "      <td>1.26</td>\n",
       "      <td>1.514</td>\n",
       "      <td>0.147</td>\n",
       "      <td>4.0</td>\n",
       "      <td>11.7</td>\n",
       "      <td>5/28/2014 12:00 PM</td>\n",
       "      <td>CalumetBeach201405281200</td>\n",
       "    </tr>\n",
       "    <tr>\n",
       "      <th>4</th>\n",
       "      <td>Montrose Beach</td>\n",
       "      <td>05/28/2014 12:00:00 PM</td>\n",
       "      <td>14.4</td>\n",
       "      <td>3.36</td>\n",
       "      <td>1.388</td>\n",
       "      <td>0.298</td>\n",
       "      <td>4.0</td>\n",
       "      <td>11.9</td>\n",
       "      <td>5/28/2014 12:00 PM</td>\n",
       "      <td>MontroseBeach201405281200</td>\n",
       "    </tr>\n",
       "  </tbody>\n",
       "</table>\n",
       "</div>"
      ],
      "text/plain": [
       "          Beach Name   Measurement Timestamp  Water Temperature  Turbidity  \\\n",
       "0     Montrose Beach  08/30/2013 08:00:00 AM               20.3       1.18   \n",
       "1  Ohio Street Beach  05/26/2016 01:00:00 PM               14.4       1.23   \n",
       "2      Calumet Beach  09/03/2013 04:00:00 PM               23.2       3.63   \n",
       "3      Calumet Beach  05/28/2014 12:00:00 PM               16.2       1.26   \n",
       "4     Montrose Beach  05/28/2014 12:00:00 PM               14.4       3.36   \n",
       "\n",
       "   Transducer Depth  Wave Height  Wave Period  Battery Life  \\\n",
       "0             0.891        0.080          3.0           9.4   \n",
       "1               NaN        0.111          4.0          12.4   \n",
       "2             1.201        0.174          6.0           9.4   \n",
       "3             1.514        0.147          4.0          11.7   \n",
       "4             1.388        0.298          4.0          11.9   \n",
       "\n",
       "  Measurement Timestamp Label               Measurement ID  \n",
       "0           8/30/2013 8:00 AM    MontroseBeach201308300800  \n",
       "1          05/26/2016 1:00 PM  OhioStreetBeach201605261300  \n",
       "2            9/3/2013 4:00 PM     CalumetBeach201309031600  \n",
       "3          5/28/2014 12:00 PM     CalumetBeach201405281200  \n",
       "4          5/28/2014 12:00 PM    MontroseBeach201405281200  "
      ]
     },
     "execution_count": 56,
     "metadata": {},
     "output_type": "execute_result"
    }
   ],
   "source": [
    "# Read first 5 lines of dataframe\n",
    "df.head()"
   ]
  },
  {
   "cell_type": "code",
   "execution_count": 57,
   "metadata": {},
   "outputs": [
    {
     "name": "stdout",
     "output_type": "stream",
     "text": [
      "<class 'pandas.core.frame.DataFrame'>\n",
      "RangeIndex: 34923 entries, 0 to 34922\n",
      "Data columns (total 10 columns):\n",
      " #   Column                       Non-Null Count  Dtype  \n",
      "---  ------                       --------------  -----  \n",
      " 0   Beach Name                   34923 non-null  object \n",
      " 1   Measurement Timestamp        34917 non-null  object \n",
      " 2   Water Temperature            34917 non-null  float64\n",
      " 3   Turbidity                    34917 non-null  float64\n",
      " 4   Transducer Depth             10034 non-null  float64\n",
      " 5   Wave Height                  34690 non-null  float64\n",
      " 6   Wave Period                  34690 non-null  float64\n",
      " 7   Battery Life                 34917 non-null  float64\n",
      " 8   Measurement Timestamp Label  34917 non-null  object \n",
      " 9   Measurement ID               34923 non-null  object \n",
      "dtypes: float64(6), object(4)\n",
      "memory usage: 2.7+ MB\n"
     ]
    }
   ],
   "source": [
    "# view data info\n",
    "df.info()"
   ]
  },
  {
   "cell_type": "code",
   "execution_count": 58,
   "metadata": {},
   "outputs": [
    {
     "data": {
      "text/html": [
       "<div>\n",
       "<style scoped>\n",
       "    .dataframe tbody tr th:only-of-type {\n",
       "        vertical-align: middle;\n",
       "    }\n",
       "\n",
       "    .dataframe tbody tr th {\n",
       "        vertical-align: top;\n",
       "    }\n",
       "\n",
       "    .dataframe thead th {\n",
       "        text-align: right;\n",
       "    }\n",
       "</style>\n",
       "<table border=\"1\" class=\"dataframe\">\n",
       "  <thead>\n",
       "    <tr style=\"text-align: right;\">\n",
       "      <th></th>\n",
       "      <th>Water Temperature</th>\n",
       "      <th>Turbidity</th>\n",
       "      <th>Transducer Depth</th>\n",
       "      <th>Wave Height</th>\n",
       "      <th>Wave Period</th>\n",
       "      <th>Battery Life</th>\n",
       "    </tr>\n",
       "  </thead>\n",
       "  <tbody>\n",
       "    <tr>\n",
       "      <th>count</th>\n",
       "      <td>34917.000000</td>\n",
       "      <td>34917.000000</td>\n",
       "      <td>10034.000000</td>\n",
       "      <td>34690.000000</td>\n",
       "      <td>34690.000000</td>\n",
       "      <td>34917.000000</td>\n",
       "    </tr>\n",
       "    <tr>\n",
       "      <th>mean</th>\n",
       "      <td>19.363387</td>\n",
       "      <td>4.823575</td>\n",
       "      <td>1.570235</td>\n",
       "      <td>-1516.116166</td>\n",
       "      <td>-1512.482041</td>\n",
       "      <td>11.038205</td>\n",
       "    </tr>\n",
       "    <tr>\n",
       "      <th>std</th>\n",
       "      <td>3.356908</td>\n",
       "      <td>33.506600</td>\n",
       "      <td>0.175118</td>\n",
       "      <td>12220.244835</td>\n",
       "      <td>12220.696864</td>\n",
       "      <td>0.771769</td>\n",
       "    </tr>\n",
       "    <tr>\n",
       "      <th>min</th>\n",
       "      <td>0.000000</td>\n",
       "      <td>0.000000</td>\n",
       "      <td>-0.082000</td>\n",
       "      <td>-99999.992000</td>\n",
       "      <td>-100000.000000</td>\n",
       "      <td>4.800000</td>\n",
       "    </tr>\n",
       "    <tr>\n",
       "      <th>25%</th>\n",
       "      <td>17.100000</td>\n",
       "      <td>0.660000</td>\n",
       "      <td>1.426000</td>\n",
       "      <td>0.110000</td>\n",
       "      <td>3.000000</td>\n",
       "      <td>10.600000</td>\n",
       "    </tr>\n",
       "    <tr>\n",
       "      <th>50%</th>\n",
       "      <td>19.600000</td>\n",
       "      <td>1.260000</td>\n",
       "      <td>1.578000</td>\n",
       "      <td>0.154000</td>\n",
       "      <td>3.000000</td>\n",
       "      <td>11.000000</td>\n",
       "    </tr>\n",
       "    <tr>\n",
       "      <th>75%</th>\n",
       "      <td>22.000000</td>\n",
       "      <td>2.540000</td>\n",
       "      <td>1.721000</td>\n",
       "      <td>0.201000</td>\n",
       "      <td>4.000000</td>\n",
       "      <td>11.500000</td>\n",
       "    </tr>\n",
       "    <tr>\n",
       "      <th>max</th>\n",
       "      <td>31.500000</td>\n",
       "      <td>1683.480000</td>\n",
       "      <td>2.214000</td>\n",
       "      <td>1.467000</td>\n",
       "      <td>10.000000</td>\n",
       "      <td>13.300000</td>\n",
       "    </tr>\n",
       "  </tbody>\n",
       "</table>\n",
       "</div>"
      ],
      "text/plain": [
       "       Water Temperature     Turbidity  Transducer Depth   Wave Height  \\\n",
       "count       34917.000000  34917.000000      10034.000000  34690.000000   \n",
       "mean           19.363387      4.823575          1.570235  -1516.116166   \n",
       "std             3.356908     33.506600          0.175118  12220.244835   \n",
       "min             0.000000      0.000000         -0.082000 -99999.992000   \n",
       "25%            17.100000      0.660000          1.426000      0.110000   \n",
       "50%            19.600000      1.260000          1.578000      0.154000   \n",
       "75%            22.000000      2.540000          1.721000      0.201000   \n",
       "max            31.500000   1683.480000          2.214000      1.467000   \n",
       "\n",
       "         Wave Period  Battery Life  \n",
       "count   34690.000000  34917.000000  \n",
       "mean    -1512.482041     11.038205  \n",
       "std     12220.696864      0.771769  \n",
       "min   -100000.000000      4.800000  \n",
       "25%         3.000000     10.600000  \n",
       "50%         3.000000     11.000000  \n",
       "75%         4.000000     11.500000  \n",
       "max        10.000000     13.300000  "
      ]
     },
     "execution_count": 58,
     "metadata": {},
     "output_type": "execute_result"
    }
   ],
   "source": [
    "# view summary statistics of numerical columns\n",
    "df.describe()"
   ]
  },
  {
   "cell_type": "markdown",
   "metadata": {},
   "source": [
    "Ocean wave height (technically referred to as amplitude) is a measurement of the vertical distance of the wave from the average height of the wave. The wave axis is the still water level of the ocean, and is usually equated to zero. Wave height above and below the average are measured as positive and negative values, respectively. Could that be the reason we have negative values in the 'Wave Height\" and \"Wave Period\" columns?"
   ]
  },
  {
   "cell_type": "markdown",
   "metadata": {},
   "source": [
    "However, on closer inspection, notice these two columns have extreme-looking values as their minimum values. These could be attributed to clerical errors, or perhaps filling in for unknown values as it was done several years ago (before the advent of NaNs). "
   ]
  },
  {
   "cell_type": "markdown",
   "metadata": {},
   "source": [
    "However, it does seem like the above -99999.92 and -100000.0 were arbitrarily entered as values in the above columns for some odd reason. "
   ]
  },
  {
   "cell_type": "markdown",
   "metadata": {},
   "source": [
    "Also, it is noted from the df.info() output that the timestamp measurements are object datatypes. "
   ]
  },
  {
   "cell_type": "code",
   "execution_count": 59,
   "metadata": {
    "scrolled": true
   },
   "outputs": [
    {
     "data": {
      "text/plain": [
       "0.015061707184377058"
      ]
     },
     "execution_count": 59,
     "metadata": {},
     "output_type": "execute_result"
    }
   ],
   "source": [
    "len(df[df['Wave Height'] < 0]) / len(df)"
   ]
  },
  {
   "cell_type": "markdown",
   "metadata": {},
   "source": [
    "These arbitrarily inputted figures account for a little less than 2% of the dataset. At this point of exploring the data, I will note this and make a decision about handling this subset of the dataset as I keep exploring and looking at the trends."
   ]
  },
  {
   "cell_type": "code",
   "execution_count": 60,
   "metadata": {},
   "outputs": [
    {
     "data": {
      "text/html": [
       "<div>\n",
       "<style scoped>\n",
       "    .dataframe tbody tr th:only-of-type {\n",
       "        vertical-align: middle;\n",
       "    }\n",
       "\n",
       "    .dataframe tbody tr th {\n",
       "        vertical-align: top;\n",
       "    }\n",
       "\n",
       "    .dataframe thead th {\n",
       "        text-align: right;\n",
       "    }\n",
       "</style>\n",
       "<table border=\"1\" class=\"dataframe\">\n",
       "  <thead>\n",
       "    <tr style=\"text-align: right;\">\n",
       "      <th></th>\n",
       "      <th>Beach Name</th>\n",
       "      <th>Measurement Timestamp</th>\n",
       "      <th>Water Temperature</th>\n",
       "      <th>Turbidity</th>\n",
       "      <th>Transducer Depth</th>\n",
       "      <th>Wave Height</th>\n",
       "      <th>Wave Period</th>\n",
       "      <th>Battery Life</th>\n",
       "      <th>Measurement Timestamp Label</th>\n",
       "      <th>Measurement ID</th>\n",
       "    </tr>\n",
       "  </thead>\n",
       "  <tbody>\n",
       "    <tr>\n",
       "      <th>859</th>\n",
       "      <td>63rd Street Beach</td>\n",
       "      <td>06/12/2014 12:00:00 PM</td>\n",
       "      <td>25.4</td>\n",
       "      <td>3.45</td>\n",
       "      <td>-0.072</td>\n",
       "      <td>0.031</td>\n",
       "      <td>9.0</td>\n",
       "      <td>12.2</td>\n",
       "      <td>06/12/2014 12:00 PM</td>\n",
       "      <td>63rdStreetBeach201406121200</td>\n",
       "    </tr>\n",
       "    <tr>\n",
       "      <th>909</th>\n",
       "      <td>Osterman Beach</td>\n",
       "      <td>06/12/2014 03:00:00 PM</td>\n",
       "      <td>20.5</td>\n",
       "      <td>0.00</td>\n",
       "      <td>-0.082</td>\n",
       "      <td>0.055</td>\n",
       "      <td>2.0</td>\n",
       "      <td>12.7</td>\n",
       "      <td>06/12/2014 3:00 PM</td>\n",
       "      <td>OstermanBeach201406121500</td>\n",
       "    </tr>\n",
       "  </tbody>\n",
       "</table>\n",
       "</div>"
      ],
      "text/plain": [
       "            Beach Name   Measurement Timestamp  Water Temperature  Turbidity  \\\n",
       "859  63rd Street Beach  06/12/2014 12:00:00 PM               25.4       3.45   \n",
       "909     Osterman Beach  06/12/2014 03:00:00 PM               20.5       0.00   \n",
       "\n",
       "     Transducer Depth  Wave Height  Wave Period  Battery Life  \\\n",
       "859            -0.072        0.031          9.0          12.2   \n",
       "909            -0.082        0.055          2.0          12.7   \n",
       "\n",
       "    Measurement Timestamp Label               Measurement ID  \n",
       "859         06/12/2014 12:00 PM  63rdStreetBeach201406121200  \n",
       "909          06/12/2014 3:00 PM    OstermanBeach201406121500  "
      ]
     },
     "execution_count": 60,
     "metadata": {},
     "output_type": "execute_result"
    }
   ],
   "source": [
    "df[df['Transducer Depth'] < 0]"
   ]
  },
  {
   "cell_type": "markdown",
   "metadata": {},
   "source": [
    "These two readings also have negative transducer height values, which seems odd. However, just like the wave height measurements above, I note this off-values and will make a decision as to the usability while I keep exploring the dataset.\n",
    "\n",
    "Meanwhile, we are looking out for outliers in the target variable."
   ]
  },
  {
   "cell_type": "code",
   "execution_count": 61,
   "metadata": {},
   "outputs": [
    {
     "data": {
      "text/html": [
       "<div>\n",
       "<style scoped>\n",
       "    .dataframe tbody tr th:only-of-type {\n",
       "        vertical-align: middle;\n",
       "    }\n",
       "\n",
       "    .dataframe tbody tr th {\n",
       "        vertical-align: top;\n",
       "    }\n",
       "\n",
       "    .dataframe thead th {\n",
       "        text-align: right;\n",
       "    }\n",
       "</style>\n",
       "<table border=\"1\" class=\"dataframe\">\n",
       "  <thead>\n",
       "    <tr style=\"text-align: right;\">\n",
       "      <th></th>\n",
       "      <th>Beach Name</th>\n",
       "      <th>Measurement Timestamp</th>\n",
       "      <th>Water Temperature</th>\n",
       "      <th>Turbidity</th>\n",
       "      <th>Transducer Depth</th>\n",
       "      <th>Wave Height</th>\n",
       "      <th>Wave Period</th>\n",
       "      <th>Battery Life</th>\n",
       "      <th>Measurement Timestamp Label</th>\n",
       "      <th>Measurement ID</th>\n",
       "    </tr>\n",
       "  </thead>\n",
       "  <tbody>\n",
       "    <tr>\n",
       "      <th>7547</th>\n",
       "      <td>63rd Street Beach</td>\n",
       "      <td>07/27/2014 02:00:00 PM</td>\n",
       "      <td>18.9</td>\n",
       "      <td>1683.48</td>\n",
       "      <td>NaN</td>\n",
       "      <td>NaN</td>\n",
       "      <td>NaN</td>\n",
       "      <td>5.3</td>\n",
       "      <td>07/27/2014 2:00 PM</td>\n",
       "      <td>63rdStreetBeach201407271400</td>\n",
       "    </tr>\n",
       "    <tr>\n",
       "      <th>7710</th>\n",
       "      <td>63rd Street Beach</td>\n",
       "      <td>07/27/2014 04:00:00 PM</td>\n",
       "      <td>18.1</td>\n",
       "      <td>479.35</td>\n",
       "      <td>NaN</td>\n",
       "      <td>NaN</td>\n",
       "      <td>NaN</td>\n",
       "      <td>5.2</td>\n",
       "      <td>07/27/2014 4:00 PM</td>\n",
       "      <td>63rdStreetBeach201407271600</td>\n",
       "    </tr>\n",
       "    <tr>\n",
       "      <th>7784</th>\n",
       "      <td>63rd Street Beach</td>\n",
       "      <td>07/27/2014 10:00:00 PM</td>\n",
       "      <td>17.7</td>\n",
       "      <td>1680.92</td>\n",
       "      <td>NaN</td>\n",
       "      <td>NaN</td>\n",
       "      <td>NaN</td>\n",
       "      <td>5.3</td>\n",
       "      <td>07/27/2014 10:00 PM</td>\n",
       "      <td>63rdStreetBeach201407272200</td>\n",
       "    </tr>\n",
       "    <tr>\n",
       "      <th>8319</th>\n",
       "      <td>Montrose Beach</td>\n",
       "      <td>05/31/2015 02:00:00 PM</td>\n",
       "      <td>9.6</td>\n",
       "      <td>112.81</td>\n",
       "      <td>NaN</td>\n",
       "      <td>0.546</td>\n",
       "      <td>6.0</td>\n",
       "      <td>11.1</td>\n",
       "      <td>05/31/2015 2:00 PM</td>\n",
       "      <td>MontroseBeach201505311400</td>\n",
       "    </tr>\n",
       "    <tr>\n",
       "      <th>8320</th>\n",
       "      <td>Osterman Beach</td>\n",
       "      <td>05/31/2015 02:00:00 PM</td>\n",
       "      <td>9.5</td>\n",
       "      <td>151.81</td>\n",
       "      <td>NaN</td>\n",
       "      <td>0.504</td>\n",
       "      <td>6.0</td>\n",
       "      <td>10.9</td>\n",
       "      <td>05/31/2015 2:00 PM</td>\n",
       "      <td>OstermanBeach201505311400</td>\n",
       "    </tr>\n",
       "    <tr>\n",
       "      <th>...</th>\n",
       "      <td>...</td>\n",
       "      <td>...</td>\n",
       "      <td>...</td>\n",
       "      <td>...</td>\n",
       "      <td>...</td>\n",
       "      <td>...</td>\n",
       "      <td>...</td>\n",
       "      <td>...</td>\n",
       "      <td>...</td>\n",
       "      <td>...</td>\n",
       "    </tr>\n",
       "    <tr>\n",
       "      <th>28360</th>\n",
       "      <td>Rainbow Beach</td>\n",
       "      <td>09/11/2015 08:00:00 PM</td>\n",
       "      <td>19.6</td>\n",
       "      <td>136.26</td>\n",
       "      <td>NaN</td>\n",
       "      <td>0.558</td>\n",
       "      <td>6.0</td>\n",
       "      <td>11.6</td>\n",
       "      <td>09/11/2015 8:00 PM</td>\n",
       "      <td>RainbowBeach201509112000</td>\n",
       "    </tr>\n",
       "    <tr>\n",
       "      <th>30186</th>\n",
       "      <td>Rainbow Beach</td>\n",
       "      <td>09/30/2015 07:00:00 PM</td>\n",
       "      <td>9.8</td>\n",
       "      <td>1362.80</td>\n",
       "      <td>NaN</td>\n",
       "      <td>-99999.992</td>\n",
       "      <td>-100000.0</td>\n",
       "      <td>10.5</td>\n",
       "      <td>09/30/2015 7:00 PM</td>\n",
       "      <td>RainbowBeach201509301900</td>\n",
       "    </tr>\n",
       "    <tr>\n",
       "      <th>30192</th>\n",
       "      <td>Rainbow Beach</td>\n",
       "      <td>09/30/2015 11:00:00 PM</td>\n",
       "      <td>16.4</td>\n",
       "      <td>217.08</td>\n",
       "      <td>NaN</td>\n",
       "      <td>-99999.992</td>\n",
       "      <td>-100000.0</td>\n",
       "      <td>10.4</td>\n",
       "      <td>09/30/2015 11:00 PM</td>\n",
       "      <td>RainbowBeach201509302300</td>\n",
       "    </tr>\n",
       "    <tr>\n",
       "      <th>30198</th>\n",
       "      <td>Rainbow Beach</td>\n",
       "      <td>10/01/2015 06:00:00 AM</td>\n",
       "      <td>15.8</td>\n",
       "      <td>357.35</td>\n",
       "      <td>NaN</td>\n",
       "      <td>-99999.992</td>\n",
       "      <td>-100000.0</td>\n",
       "      <td>10.4</td>\n",
       "      <td>10/01/2015 6:00 AM</td>\n",
       "      <td>RainbowBeach201510010600</td>\n",
       "    </tr>\n",
       "    <tr>\n",
       "      <th>31727</th>\n",
       "      <td>Montrose Beach</td>\n",
       "      <td>09/01/2016 10:00:00 PM</td>\n",
       "      <td>20.7</td>\n",
       "      <td>164.05</td>\n",
       "      <td>NaN</td>\n",
       "      <td>0.536</td>\n",
       "      <td>6.0</td>\n",
       "      <td>10.6</td>\n",
       "      <td>09/01/2016 10:00 PM</td>\n",
       "      <td>MontroseBeach201609012200</td>\n",
       "    </tr>\n",
       "  </tbody>\n",
       "</table>\n",
       "<p>180 rows × 10 columns</p>\n",
       "</div>"
      ],
      "text/plain": [
       "              Beach Name   Measurement Timestamp  Water Temperature  \\\n",
       "7547   63rd Street Beach  07/27/2014 02:00:00 PM               18.9   \n",
       "7710   63rd Street Beach  07/27/2014 04:00:00 PM               18.1   \n",
       "7784   63rd Street Beach  07/27/2014 10:00:00 PM               17.7   \n",
       "8319      Montrose Beach  05/31/2015 02:00:00 PM                9.6   \n",
       "8320      Osterman Beach  05/31/2015 02:00:00 PM                9.5   \n",
       "...                  ...                     ...                ...   \n",
       "28360      Rainbow Beach  09/11/2015 08:00:00 PM               19.6   \n",
       "30186      Rainbow Beach  09/30/2015 07:00:00 PM                9.8   \n",
       "30192      Rainbow Beach  09/30/2015 11:00:00 PM               16.4   \n",
       "30198      Rainbow Beach  10/01/2015 06:00:00 AM               15.8   \n",
       "31727     Montrose Beach  09/01/2016 10:00:00 PM               20.7   \n",
       "\n",
       "       Turbidity  Transducer Depth  Wave Height  Wave Period  Battery Life  \\\n",
       "7547     1683.48               NaN          NaN          NaN           5.3   \n",
       "7710      479.35               NaN          NaN          NaN           5.2   \n",
       "7784     1680.92               NaN          NaN          NaN           5.3   \n",
       "8319      112.81               NaN        0.546          6.0          11.1   \n",
       "8320      151.81               NaN        0.504          6.0          10.9   \n",
       "...          ...               ...          ...          ...           ...   \n",
       "28360     136.26               NaN        0.558          6.0          11.6   \n",
       "30186    1362.80               NaN   -99999.992    -100000.0          10.5   \n",
       "30192     217.08               NaN   -99999.992    -100000.0          10.4   \n",
       "30198     357.35               NaN   -99999.992    -100000.0          10.4   \n",
       "31727     164.05               NaN        0.536          6.0          10.6   \n",
       "\n",
       "      Measurement Timestamp Label               Measurement ID  \n",
       "7547           07/27/2014 2:00 PM  63rdStreetBeach201407271400  \n",
       "7710           07/27/2014 4:00 PM  63rdStreetBeach201407271600  \n",
       "7784          07/27/2014 10:00 PM  63rdStreetBeach201407272200  \n",
       "8319           05/31/2015 2:00 PM    MontroseBeach201505311400  \n",
       "8320           05/31/2015 2:00 PM    OstermanBeach201505311400  \n",
       "...                           ...                          ...  \n",
       "28360          09/11/2015 8:00 PM     RainbowBeach201509112000  \n",
       "30186          09/30/2015 7:00 PM     RainbowBeach201509301900  \n",
       "30192         09/30/2015 11:00 PM     RainbowBeach201509302300  \n",
       "30198          10/01/2015 6:00 AM     RainbowBeach201510010600  \n",
       "31727         09/01/2016 10:00 PM    MontroseBeach201609012200  \n",
       "\n",
       "[180 rows x 10 columns]"
      ]
     },
     "execution_count": 61,
     "metadata": {},
     "output_type": "execute_result"
    }
   ],
   "source": [
    "df[df['Turbidity'] > 100]"
   ]
  },
  {
   "cell_type": "code",
   "execution_count": 62,
   "metadata": {},
   "outputs": [
    {
     "data": {
      "text/plain": [
       "['Montrose Beach',\n",
       " 'Ohio Street Beach',\n",
       " 'Calumet Beach',\n",
       " '63rd Street Beach',\n",
       " 'Osterman Beach',\n",
       " 'Rainbow Beach']"
      ]
     },
     "execution_count": 62,
     "metadata": {},
     "output_type": "execute_result"
    }
   ],
   "source": [
    "beach_names = []\n",
    "\n",
    "for name in df['Beach Name'].unique():\n",
    "    beach_names.append(name)\n",
    "    \n",
    "beach_names"
   ]
  },
  {
   "cell_type": "code",
   "execution_count": 63,
   "metadata": {},
   "outputs": [],
   "source": [
    "# Filtering out the extreme wave height and wave period values:\n",
    "df = df[(df['Wave Height'] != -99999.992) & \n",
    "        (df['Wave Period'] != -100000.0)].drop(columns='Transducer Depth').dropna()"
   ]
  },
  {
   "cell_type": "code",
   "execution_count": 64,
   "metadata": {},
   "outputs": [
    {
     "data": {
      "text/html": [
       "<div>\n",
       "<style scoped>\n",
       "    .dataframe tbody tr th:only-of-type {\n",
       "        vertical-align: middle;\n",
       "    }\n",
       "\n",
       "    .dataframe tbody tr th {\n",
       "        vertical-align: top;\n",
       "    }\n",
       "\n",
       "    .dataframe thead th {\n",
       "        text-align: right;\n",
       "    }\n",
       "</style>\n",
       "<table border=\"1\" class=\"dataframe\">\n",
       "  <thead>\n",
       "    <tr style=\"text-align: right;\">\n",
       "      <th></th>\n",
       "      <th>Beach Name</th>\n",
       "      <th>Measurement Timestamp</th>\n",
       "      <th>Water Temperature</th>\n",
       "      <th>Turbidity</th>\n",
       "      <th>Wave Height</th>\n",
       "      <th>Wave Period</th>\n",
       "      <th>Battery Life</th>\n",
       "      <th>Measurement Timestamp Label</th>\n",
       "      <th>Measurement ID</th>\n",
       "    </tr>\n",
       "  </thead>\n",
       "  <tbody>\n",
       "    <tr>\n",
       "      <th>0</th>\n",
       "      <td>Montrose Beach</td>\n",
       "      <td>08/30/2013 08:00:00 AM</td>\n",
       "      <td>20.3</td>\n",
       "      <td>1.18</td>\n",
       "      <td>0.080</td>\n",
       "      <td>3.0</td>\n",
       "      <td>9.4</td>\n",
       "      <td>8/30/2013 8:00 AM</td>\n",
       "      <td>MontroseBeach201308300800</td>\n",
       "    </tr>\n",
       "    <tr>\n",
       "      <th>1</th>\n",
       "      <td>Ohio Street Beach</td>\n",
       "      <td>05/26/2016 01:00:00 PM</td>\n",
       "      <td>14.4</td>\n",
       "      <td>1.23</td>\n",
       "      <td>0.111</td>\n",
       "      <td>4.0</td>\n",
       "      <td>12.4</td>\n",
       "      <td>05/26/2016 1:00 PM</td>\n",
       "      <td>OhioStreetBeach201605261300</td>\n",
       "    </tr>\n",
       "    <tr>\n",
       "      <th>2</th>\n",
       "      <td>Calumet Beach</td>\n",
       "      <td>09/03/2013 04:00:00 PM</td>\n",
       "      <td>23.2</td>\n",
       "      <td>3.63</td>\n",
       "      <td>0.174</td>\n",
       "      <td>6.0</td>\n",
       "      <td>9.4</td>\n",
       "      <td>9/3/2013 4:00 PM</td>\n",
       "      <td>CalumetBeach201309031600</td>\n",
       "    </tr>\n",
       "    <tr>\n",
       "      <th>3</th>\n",
       "      <td>Calumet Beach</td>\n",
       "      <td>05/28/2014 12:00:00 PM</td>\n",
       "      <td>16.2</td>\n",
       "      <td>1.26</td>\n",
       "      <td>0.147</td>\n",
       "      <td>4.0</td>\n",
       "      <td>11.7</td>\n",
       "      <td>5/28/2014 12:00 PM</td>\n",
       "      <td>CalumetBeach201405281200</td>\n",
       "    </tr>\n",
       "    <tr>\n",
       "      <th>4</th>\n",
       "      <td>Montrose Beach</td>\n",
       "      <td>05/28/2014 12:00:00 PM</td>\n",
       "      <td>14.4</td>\n",
       "      <td>3.36</td>\n",
       "      <td>0.298</td>\n",
       "      <td>4.0</td>\n",
       "      <td>11.9</td>\n",
       "      <td>5/28/2014 12:00 PM</td>\n",
       "      <td>MontroseBeach201405281200</td>\n",
       "    </tr>\n",
       "    <tr>\n",
       "      <th>...</th>\n",
       "      <td>...</td>\n",
       "      <td>...</td>\n",
       "      <td>...</td>\n",
       "      <td>...</td>\n",
       "      <td>...</td>\n",
       "      <td>...</td>\n",
       "      <td>...</td>\n",
       "      <td>...</td>\n",
       "      <td>...</td>\n",
       "    </tr>\n",
       "    <tr>\n",
       "      <th>34918</th>\n",
       "      <td>Ohio Street Beach</td>\n",
       "      <td>09/12/2017 12:00:00 PM</td>\n",
       "      <td>19.9</td>\n",
       "      <td>2.61</td>\n",
       "      <td>0.187</td>\n",
       "      <td>3.0</td>\n",
       "      <td>10.5</td>\n",
       "      <td>09/12/2017 12:00 PM</td>\n",
       "      <td>OhioStreetBeach201709121200</td>\n",
       "    </tr>\n",
       "    <tr>\n",
       "      <th>34919</th>\n",
       "      <td>Ohio Street Beach</td>\n",
       "      <td>09/12/2017 01:00:00 PM</td>\n",
       "      <td>19.8</td>\n",
       "      <td>0.00</td>\n",
       "      <td>0.187</td>\n",
       "      <td>3.0</td>\n",
       "      <td>10.5</td>\n",
       "      <td>09/12/2017 1:00 PM</td>\n",
       "      <td>OhioStreetBeach201709121300</td>\n",
       "    </tr>\n",
       "    <tr>\n",
       "      <th>34920</th>\n",
       "      <td>Ohio Street Beach</td>\n",
       "      <td>09/12/2017 03:00:00 PM</td>\n",
       "      <td>22.3</td>\n",
       "      <td>0.00</td>\n",
       "      <td>0.187</td>\n",
       "      <td>3.0</td>\n",
       "      <td>10.5</td>\n",
       "      <td>09/12/2017 3:00 PM</td>\n",
       "      <td>OhioStreetBeach201709121500</td>\n",
       "    </tr>\n",
       "    <tr>\n",
       "      <th>34921</th>\n",
       "      <td>Ohio Street Beach</td>\n",
       "      <td>09/12/2017 05:00:00 PM</td>\n",
       "      <td>21.1</td>\n",
       "      <td>26.97</td>\n",
       "      <td>0.187</td>\n",
       "      <td>3.0</td>\n",
       "      <td>9.4</td>\n",
       "      <td>09/12/2017 5:00 PM</td>\n",
       "      <td>OhioStreetBeach201709121700</td>\n",
       "    </tr>\n",
       "    <tr>\n",
       "      <th>34922</th>\n",
       "      <td>Ohio Street Beach</td>\n",
       "      <td>09/12/2017 06:00:00 PM</td>\n",
       "      <td>21.3</td>\n",
       "      <td>27.55</td>\n",
       "      <td>0.187</td>\n",
       "      <td>3.0</td>\n",
       "      <td>9.4</td>\n",
       "      <td>09/12/2017 6:00 PM</td>\n",
       "      <td>OhioStreetBeach201709121800</td>\n",
       "    </tr>\n",
       "  </tbody>\n",
       "</table>\n",
       "<p>34164 rows × 9 columns</p>\n",
       "</div>"
      ],
      "text/plain": [
       "              Beach Name   Measurement Timestamp  Water Temperature  \\\n",
       "0         Montrose Beach  08/30/2013 08:00:00 AM               20.3   \n",
       "1      Ohio Street Beach  05/26/2016 01:00:00 PM               14.4   \n",
       "2          Calumet Beach  09/03/2013 04:00:00 PM               23.2   \n",
       "3          Calumet Beach  05/28/2014 12:00:00 PM               16.2   \n",
       "4         Montrose Beach  05/28/2014 12:00:00 PM               14.4   \n",
       "...                  ...                     ...                ...   \n",
       "34918  Ohio Street Beach  09/12/2017 12:00:00 PM               19.9   \n",
       "34919  Ohio Street Beach  09/12/2017 01:00:00 PM               19.8   \n",
       "34920  Ohio Street Beach  09/12/2017 03:00:00 PM               22.3   \n",
       "34921  Ohio Street Beach  09/12/2017 05:00:00 PM               21.1   \n",
       "34922  Ohio Street Beach  09/12/2017 06:00:00 PM               21.3   \n",
       "\n",
       "       Turbidity  Wave Height  Wave Period  Battery Life  \\\n",
       "0           1.18        0.080          3.0           9.4   \n",
       "1           1.23        0.111          4.0          12.4   \n",
       "2           3.63        0.174          6.0           9.4   \n",
       "3           1.26        0.147          4.0          11.7   \n",
       "4           3.36        0.298          4.0          11.9   \n",
       "...          ...          ...          ...           ...   \n",
       "34918       2.61        0.187          3.0          10.5   \n",
       "34919       0.00        0.187          3.0          10.5   \n",
       "34920       0.00        0.187          3.0          10.5   \n",
       "34921      26.97        0.187          3.0           9.4   \n",
       "34922      27.55        0.187          3.0           9.4   \n",
       "\n",
       "      Measurement Timestamp Label               Measurement ID  \n",
       "0               8/30/2013 8:00 AM    MontroseBeach201308300800  \n",
       "1              05/26/2016 1:00 PM  OhioStreetBeach201605261300  \n",
       "2                9/3/2013 4:00 PM     CalumetBeach201309031600  \n",
       "3              5/28/2014 12:00 PM     CalumetBeach201405281200  \n",
       "4              5/28/2014 12:00 PM    MontroseBeach201405281200  \n",
       "...                           ...                          ...  \n",
       "34918         09/12/2017 12:00 PM  OhioStreetBeach201709121200  \n",
       "34919          09/12/2017 1:00 PM  OhioStreetBeach201709121300  \n",
       "34920          09/12/2017 3:00 PM  OhioStreetBeach201709121500  \n",
       "34921          09/12/2017 5:00 PM  OhioStreetBeach201709121700  \n",
       "34922          09/12/2017 6:00 PM  OhioStreetBeach201709121800  \n",
       "\n",
       "[34164 rows x 9 columns]"
      ]
     },
     "execution_count": 64,
     "metadata": {},
     "output_type": "execute_result"
    }
   ],
   "source": [
    "df"
   ]
  },
  {
   "cell_type": "code",
   "execution_count": 65,
   "metadata": {},
   "outputs": [],
   "source": [
    "# converting Measurement Timestamp variable to a datetime object\n",
    "time_list = ['Measurement Timestamp', 'Measurement Timestamp Label']\n",
    "df['Measurement Timestamp'] = pd.to_datetime(df['Measurement Timestamp'])\n",
    "# df.set_index('Measurement Timestamp')\n"
   ]
  },
  {
   "cell_type": "code",
   "execution_count": 66,
   "metadata": {},
   "outputs": [
    {
     "data": {
      "text/plain": [
       "1190.02"
      ]
     },
     "execution_count": 66,
     "metadata": {},
     "output_type": "execute_result"
    }
   ],
   "source": [
    "df.Turbidity.max()"
   ]
  },
  {
   "cell_type": "code",
   "execution_count": 67,
   "metadata": {},
   "outputs": [
    {
     "data": {
      "image/png": "[encoded data removed]",
      "text/plain": [
       "<Figure size 864x576 with 6 Axes>"
      ]
     },
     "metadata": {},
     "output_type": "display_data"
    }
   ],
   "source": [
    "# Visualizing the features\n",
    "df.hist(figsize=(12,8),bins=10);"
   ]
  },
  {
   "cell_type": "markdown",
   "metadata": {},
   "source": [
    "## Binning the turbidity level"
   ]
  },
  {
   "cell_type": "code",
   "execution_count": 68,
   "metadata": {},
   "outputs": [],
   "source": [
    "# Define bins\n",
    "bins = [0, 5, 35, 50, 2000]"
   ]
  },
  {
   "cell_type": "code",
   "execution_count": 69,
   "metadata": {},
   "outputs": [],
   "source": [
    "# Define the corresponding category for each bin\n",
    "Levels = [0, 1, 2, 3]"
   ]
  },
  {
   "cell_type": "code",
   "execution_count": 70,
   "metadata": {},
   "outputs": [],
   "source": [
    "# create a new column mapping water turbidity to a turbidity level\n",
    "df['Turbidity_level'] = pd.cut(df['Turbidity'],bins,labels=Levels,ordered=True,include_lowest=True)"
   ]
  },
  {
   "cell_type": "code",
   "execution_count": 71,
   "metadata": {},
   "outputs": [
    {
     "name": "stdout",
     "output_type": "stream",
     "text": [
      "<class 'pandas.core.frame.DataFrame'>\n",
      "Int64Index: 34164 entries, 0 to 34922\n",
      "Data columns (total 10 columns):\n",
      " #   Column                       Non-Null Count  Dtype         \n",
      "---  ------                       --------------  -----         \n",
      " 0   Beach Name                   34164 non-null  object        \n",
      " 1   Measurement Timestamp        34164 non-null  datetime64[ns]\n",
      " 2   Water Temperature            34164 non-null  float64       \n",
      " 3   Turbidity                    34164 non-null  float64       \n",
      " 4   Wave Height                  34164 non-null  float64       \n",
      " 5   Wave Period                  34164 non-null  float64       \n",
      " 6   Battery Life                 34164 non-null  float64       \n",
      " 7   Measurement Timestamp Label  34164 non-null  object        \n",
      " 8   Measurement ID               34164 non-null  object        \n",
      " 9   Turbidity_level              34164 non-null  category      \n",
      "dtypes: category(1), datetime64[ns](1), float64(5), object(3)\n",
      "memory usage: 2.6+ MB\n"
     ]
    }
   ],
   "source": [
    "df.info()"
   ]
  },
  {
   "cell_type": "code",
   "execution_count": 72,
   "metadata": {},
   "outputs": [
    {
     "data": {
      "text/plain": [
       "Beach Name                     False\n",
       "Measurement Timestamp          False\n",
       "Water Temperature              False\n",
       "Turbidity                      False\n",
       "Wave Height                    False\n",
       "Wave Period                    False\n",
       "Battery Life                   False\n",
       "Measurement Timestamp Label    False\n",
       "Measurement ID                 False\n",
       "Turbidity_level                False\n",
       "dtype: bool"
      ]
     },
     "execution_count": 72,
     "metadata": {},
     "output_type": "execute_result"
    }
   ],
   "source": [
    "# check for null vales\n",
    "df.isna().any()"
   ]
  },
  {
   "cell_type": "code",
   "execution_count": 73,
   "metadata": {},
   "outputs": [
    {
     "data": {
      "text/plain": [
       "0    0.880547\n",
       "1    0.102886\n",
       "3    0.010508\n",
       "2    0.006059\n",
       "Name: Turbidity_level, dtype: float64"
      ]
     },
     "execution_count": 73,
     "metadata": {},
     "output_type": "execute_result"
    }
   ],
   "source": [
    "df.Turbidity_level.value_counts(normalize=True)"
   ]
  },
  {
   "cell_type": "code",
   "execution_count": 74,
   "metadata": {},
   "outputs": [
    {
     "data": {
      "text/plain": [
       "<AxesSubplot:>"
      ]
     },
     "execution_count": 74,
     "metadata": {},
     "output_type": "execute_result"
    },
    {
     "data": {
      "image/png": "[encoded data removed]",
      "text/plain": [
       "<Figure size 432x288 with 1 Axes>"
      ]
     },
     "metadata": {},
     "output_type": "display_data"
    }
   ],
   "source": [
    "df.Turbidity_level.value_counts().plot.bar()"
   ]
  },
  {
   "cell_type": "markdown",
   "metadata": {},
   "source": [
    "The value counts and above bar chart of the value counts indicates an obvious imbalance. "
   ]
  },
  {
   "cell_type": "markdown",
   "metadata": {},
   "source": [
    "## Create month and seasonal variable"
   ]
  },
  {
   "cell_type": "code",
   "execution_count": 75,
   "metadata": {},
   "outputs": [],
   "source": [
    "# Creating monthly variable\n",
    "df['Month'] = df['Measurement Timestamp'].apply(lambda time: time.month)"
   ]
  },
  {
   "cell_type": "code",
   "execution_count": 76,
   "metadata": {},
   "outputs": [
    {
     "data": {
      "text/plain": [
       "7    9867\n",
       "6    9490\n",
       "8    9396\n",
       "9    3665\n",
       "5    1746\n",
       "Name: Measurement Timestamp, dtype: int64"
      ]
     },
     "execution_count": 76,
     "metadata": {},
     "output_type": "execute_result"
    }
   ],
   "source": [
    "df['Measurement Timestamp'].dt.month.value_counts()"
   ]
  },
  {
   "cell_type": "code",
   "execution_count": 77,
   "metadata": {},
   "outputs": [
    {
     "data": {
      "image/png": "[encoded data removed]",
      "text/plain": [
       "<Figure size 432x288 with 1 Axes>"
      ]
     },
     "metadata": {},
     "output_type": "display_data"
    }
   ],
   "source": [
    "df.Month.value_counts().plot.bar();"
   ]
  },
  {
   "cell_type": "code",
   "execution_count": 78,
   "metadata": {},
   "outputs": [],
   "source": [
    "df['date_offset'] = (df['Measurement Timestamp'].dt.month*100 + df['Measurement Timestamp'].dt.day - 320)%1300\n",
    "\n",
    "df['season'] = pd.cut(df['date_offset'], [0, 300, 602, 900, 1300], \n",
    "                      labels=['spring', 'summer', 'autumn', 'winter'],include_lowest=True)\n",
    "\n",
    "# credit: https://stackoverflow.com/a/60285720"
   ]
  },
  {
   "cell_type": "code",
   "execution_count": 79,
   "metadata": {},
   "outputs": [
    {
     "data": {
      "image/png": "[encoded data removed]",
      "text/plain": [
       "<Figure size 432x288 with 1 Axes>"
      ]
     },
     "metadata": {},
     "output_type": "display_data"
    }
   ],
   "source": [
    "df.season.value_counts().plot.bar();"
   ]
  },
  {
   "cell_type": "code",
   "execution_count": 80,
   "metadata": {},
   "outputs": [
    {
     "data": {
      "image/png": "[encoded data removed]",
      "text/plain": [
       "<Figure size 432x288 with 1 Axes>"
      ]
     },
     "metadata": {},
     "output_type": "display_data"
    }
   ],
   "source": [
    "sns.barplot(x='Month', y='Turbidity_level', data=df);"
   ]
  },
  {
   "cell_type": "code",
   "execution_count": 81,
   "metadata": {},
   "outputs": [],
   "source": [
    "features_list = ['Measurement Timestamp', 'Month', 'Water Temperature']"
   ]
  },
  {
   "cell_type": "code",
   "execution_count": 82,
   "metadata": {},
   "outputs": [],
   "source": [
    "# Create feature variable and target variable\n",
    "X = df[features_list]\n",
    "y = df['Turbidity_level']\n",
    "X_train, X_test, y_train, y_test = train_test_split(X, y, test_size=0.25,random_state=42)"
   ]
  },
  {
   "cell_type": "markdown",
   "metadata": {},
   "source": [
    "## Baseline Model"
   ]
  },
  {
   "cell_type": "markdown",
   "metadata": {},
   "source": [
    "Our first model will always predict the majority target(turbidity level) class. "
   ]
  },
  {
   "cell_type": "code",
   "execution_count": 83,
   "metadata": {},
   "outputs": [],
   "source": [
    "# Instantiate the dummy classifier\n",
    "baseline_model = DummyClassifier(strategy=\"most_frequent\")"
   ]
  },
  {
   "cell_type": "code",
   "execution_count": 84,
   "metadata": {},
   "outputs": [
    {
     "data": {
      "text/plain": [
       "DummyClassifier(strategy='most_frequent')"
      ]
     },
     "execution_count": 84,
     "metadata": {},
     "output_type": "execute_result"
    }
   ],
   "source": [
    "# Fit the classifier on training data\n",
    "baseline_model.fit(X_train, y_train)"
   ]
  },
  {
   "cell_type": "code",
   "execution_count": 85,
   "metadata": {},
   "outputs": [
    {
     "data": {
      "text/plain": [
       "19403     True\n",
       "10663     True\n",
       "13136     True\n",
       "11154     True\n",
       "17574     True\n",
       "12936     True\n",
       "13200     True\n",
       "17147     True\n",
       "2813      True\n",
       "17569     True\n",
       "24430     True\n",
       "28938     True\n",
       "11323     True\n",
       "16391     True\n",
       "23067    False\n",
       "12465     True\n",
       "5197      True\n",
       "6548      True\n",
       "10131     True\n",
       "28732     True\n",
       "10762    False\n",
       "27069     True\n",
       "28052     True\n",
       "7601      True\n",
       "27215     True\n",
       "875      False\n",
       "27611     True\n",
       "3993      True\n",
       "25056     True\n",
       "34342     True\n",
       "Name: Turbidity_level, dtype: bool"
      ]
     },
     "execution_count": 85,
     "metadata": {},
     "output_type": "execute_result"
    }
   ],
   "source": [
    "baseline_model.predict(X_train)[:30] == y_train[:30] "
   ]
  },
  {
   "cell_type": "markdown",
   "metadata": {},
   "source": [
    "## Dummy Model Evaluation"
   ]
  },
  {
   "cell_type": "code",
   "execution_count": 86,
   "metadata": {},
   "outputs": [
    {
     "data": {
      "text/plain": [
       "0.8793271739313536"
      ]
     },
     "execution_count": 86,
     "metadata": {},
     "output_type": "execute_result"
    }
   ],
   "source": [
    "cv_results = cross_val_score(baseline_model, X_train, y_train, cv=7)\n",
    "cv_results.mean()"
   ]
  },
  {
   "cell_type": "markdown",
   "metadata": {},
   "source": [
    "As expected , the mean cross-validated accuracy is c.88%. This ordinarily is a good score, but you may recall that the target variable is heavily imbalanced, hence, this result."
   ]
  },
  {
   "cell_type": "code",
   "execution_count": 87,
   "metadata": {},
   "outputs": [
    {
     "name": "stdout",
     "output_type": "stream",
     "text": [
      "[[22531     0     0     0]\n",
      " [ 2662     0     0     0]\n",
      " [  162     0     0     0]\n",
      " [  268     0     0     0]]\n"
     ]
    }
   ],
   "source": [
    "# Plot confusion matrix:\n",
    "print(confusion_matrix(y_train, baseline_model.predict(X_train)))"
   ]
  },
  {
   "cell_type": "code",
   "execution_count": 88,
   "metadata": {},
   "outputs": [
    {
     "data": {
      "text/plain": [
       "0.8793271669983999"
      ]
     },
     "execution_count": 88,
     "metadata": {},
     "output_type": "execute_result"
    }
   ],
   "source": [
    "# Calculate the accuracy \n",
    "accuracy_score(y_train, baseline_model.predict(X_train))"
   ]
  },
  {
   "cell_type": "markdown",
   "metadata": {},
   "source": [
    "Accuracy will be our preferred evaluation metric. This is because there is equal emphasis on maximizing true positives and true negatives, while minizing type I and II errors. Making a false prediction could be undesirable either ways: loss of income for beach operators or risk of falling sick for beach-goers."
   ]
  },
  {
   "cell_type": "markdown",
   "metadata": {},
   "source": [
    "## First Simple Model - Logistic Regression"
   ]
  },
  {
   "cell_type": "markdown",
   "metadata": {},
   "source": [
    "In our first logistic regression model, we will be adding a few features to the ones we used in the dummy baseline model. The new features are not numeric so we will have to perform some transformation on them."
   ]
  },
  {
   "cell_type": "code",
   "execution_count": 89,
   "metadata": {},
   "outputs": [],
   "source": [
    "lr_features_list = ['Month', 'Water Temperature','Beach Name','season']\n",
    "X = df[lr_features_list]\n",
    "y = df['Turbidity_level']"
   ]
  },
  {
   "cell_type": "code",
   "execution_count": 90,
   "metadata": {},
   "outputs": [],
   "source": [
    "# train-test split again\n",
    "X_train, X_test, y_train, y_test = train_test_split(X, y, test_size=0.25, random_state=42)"
   ]
  },
  {
   "cell_type": "markdown",
   "metadata": {},
   "source": [
    "### Handling Categorical Values: OneHotEncoding"
   ]
  },
  {
   "cell_type": "code",
   "execution_count": 91,
   "metadata": {},
   "outputs": [],
   "source": [
    "# Instantiate OneHotEncoder object\n",
    "# ohe = OneHotEncoder(handle_unknown='ignore',sparse=True)\n",
    "\n",
    "# Fit encoder object to X_train \n",
    "# X_train_transformed = ohe.fit_transform(X_train[['Beach Name','season']])\n",
    "\n",
    "#Transform fitted object on training and testing data\n",
    "# X_test_transformed = ohe.transform(X_test[['Beach Name','season']])"
   ]
  },
  {
   "cell_type": "code",
   "execution_count": 92,
   "metadata": {},
   "outputs": [],
   "source": [
    "object_cols = ['Beach Name','season']\n",
    "\n",
    "# Apply one-hot encoder to each column with categorical data\n",
    "OH_encoder = OneHotEncoder(handle_unknown='ignore', sparse=False)\n",
    "OH_cols_train = pd.DataFrame(OH_encoder.fit_transform(X_train[object_cols]))\n",
    "OH_cols_test = pd.DataFrame(OH_encoder.transform(X_test[object_cols]))\n",
    "\n",
    "# One-hot encoding removed index; put it back\n",
    "OH_cols_train.index = X_train.index\n",
    "OH_cols_test.index = X_test.index\n",
    "\n",
    "# Remove categorical columns (will replace with one-hot encoding)\n",
    "num_X_train = X_train.drop(object_cols, axis=1)\n",
    "num_X_test = X_test.drop(object_cols, axis=1)\n",
    "\n",
    "# Add one-hot encoded columns to numerical features\n",
    "OH_X_train = pd.concat([num_X_train, OH_cols_train], axis=1)\n",
    "OH_X_test = pd.concat([num_X_test, OH_cols_test], axis=1)\n",
    "\n",
    "# credit: https://www.kaggle.com/code/alexisbcook?scriptVersionId=79127496&cellId=14"
   ]
  },
  {
   "cell_type": "code",
   "execution_count": null,
   "metadata": {},
   "outputs": [],
   "source": []
  },
  {
   "cell_type": "code",
   "execution_count": 93,
   "metadata": {},
   "outputs": [],
   "source": [
    "lr = LogisticRegression(random_state=21,class_weight='balanced',max_iter=1000)"
   ]
  },
  {
   "cell_type": "code",
   "execution_count": 94,
   "metadata": {},
   "outputs": [
    {
     "data": {
      "text/plain": [
       "LogisticRegression(class_weight='balanced', max_iter=1000, random_state=21)"
      ]
     },
     "execution_count": 94,
     "metadata": {},
     "output_type": "execute_result"
    }
   ],
   "source": [
    "lr.fit(OH_X_train,y_train)"
   ]
  },
  {
   "cell_type": "code",
   "execution_count": 95,
   "metadata": {},
   "outputs": [],
   "source": [
    "y_hat_train = lr.predict(OH_X_train)"
   ]
  },
  {
   "cell_type": "code",
   "execution_count": 96,
   "metadata": {},
   "outputs": [
    {
     "name": "stdout",
     "output_type": "stream",
     "text": [
      "              precision    recall  f1-score   support\n",
      "\n",
      "           0       0.94      0.55      0.69     22531\n",
      "           1       0.16      0.33      0.22      2662\n",
      "           2       0.04      0.63      0.07       162\n",
      "           3       0.03      0.58      0.07       268\n",
      "\n",
      "    accuracy                           0.52     25623\n",
      "   macro avg       0.29      0.52      0.26     25623\n",
      "weighted avg       0.85      0.52      0.63     25623\n",
      "\n"
     ]
    }
   ],
   "source": [
    "print(classification_report(y_train, y_hat_train))"
   ]
  },
  {
   "cell_type": "code",
   "execution_count": 97,
   "metadata": {},
   "outputs": [
    {
     "name": "stdout",
     "output_type": "stream",
     "text": [
      "0.5242555516528119\n"
     ]
    }
   ],
   "source": [
    "print(accuracy_score(y_train, y_hat_train))"
   ]
  },
  {
   "cell_type": "markdown",
   "metadata": {},
   "source": [
    "This model does much worse than the baseline model but is a more realistic starting point going forward."
   ]
  },
  {
   "cell_type": "markdown",
   "metadata": {},
   "source": [
    "## 2nd Logistic Regression Model"
   ]
  },
  {
   "cell_type": "markdown",
   "metadata": {},
   "source": [
    "To start this second logistic model, we would be addressing the imbalance in target variable class distribution making use of SMOTE. I will also incorporate the time vaiable to see how much of an effect it has on the turbidity levels. "
   ]
  },
  {
   "cell_type": "code",
   "execution_count": null,
   "metadata": {},
   "outputs": [],
   "source": []
  }
 ],
 "metadata": {
  "kernelspec": {
   "display_name": "Python (learn-env)",
   "language": "python",
   "name": "learn-env"
  }
 },
 "nbformat": 4,
 "nbformat_minor": 4
}
